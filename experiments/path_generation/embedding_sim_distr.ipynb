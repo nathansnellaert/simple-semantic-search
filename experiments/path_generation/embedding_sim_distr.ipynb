{
 "cells": [
  {
   "cell_type": "markdown",
   "metadata": {},
   "source": [
    "### Checks the distribution of similarities for tokens within the corpus, to get a better idea to match similarities with desired path lengths"
   ]
  },
  {
   "cell_type": "code",
   "execution_count": null,
   "metadata": {},
   "outputs": [],
   "source": [
    "corpus_path =  \"./data/corpus.txt\"\n",
    "\n",
    "with open(corpus_path, \"r\") as f:\n",
    "    corpus = f.readlines()\n",
    "\n",
    "corpus = [token.strip() for token in corpus]"
   ]
  },
  {
   "cell_type": "code",
   "execution_count": null,
   "metadata": {},
   "outputs": [],
   "source": [
    "from sentence_transformers import SentenceTransformer\n",
    "\n",
    "sentence_transformer = SentenceTransformer('all-MiniLM-L6-v2')"
   ]
  },
  {
   "cell_type": "code",
   "execution_count": null,
   "metadata": {},
   "outputs": [],
   "source": [
    "import matplotlib.pyplot as plt\n",
    "import numpy as np\n",
    "import random\n",
    "\n",
    "pairs = random.sample(corpus, 1000)\n",
    "embeddings = sentence_transformer.encode(pairs)\n",
    "# collect cosine similarities between each\n",
    "cosine_similarities = np.dot(embeddings, embeddings.T)\n",
    "\n",
    "# print out the distribution of cosine similarities\n",
    "plt.hist(cosine_similarities.flatten(), bins=100)"
   ]
  }
 ],
 "metadata": {
  "kernelspec": {
   "display_name": "simple-semantic-search-6iwadsk4-py3.11",
   "language": "python",
   "name": "python3"
  },
  "language_info": {
   "codemirror_mode": {
    "name": "ipython",
    "version": 3
   },
   "file_extension": ".py",
   "mimetype": "text/x-python",
   "name": "python",
   "nbconvert_exporter": "python",
   "pygments_lexer": "ipython3",
   "version": "3.11.4"
  }
 },
 "nbformat": 4,
 "nbformat_minor": 2
}
